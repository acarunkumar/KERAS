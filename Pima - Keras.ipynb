{
 "cells": [
  {
   "cell_type": "code",
   "execution_count": 1,
   "metadata": {},
   "outputs": [
    {
     "name": "stdout",
     "output_type": "stream",
     "text": [
      "2.2.4-tf\n"
     ]
    }
   ],
   "source": [
    "import tensorflow as tf\n",
    "from tensorflow import keras\n",
    "print(keras.__version__)"
   ]
  },
  {
   "cell_type": "code",
   "execution_count": 3,
   "metadata": {},
   "outputs": [
    {
     "name": "stdout",
     "output_type": "stream",
     "text": [
      "tensorflow\n"
     ]
    },
    {
     "name": "stderr",
     "output_type": "stream",
     "text": [
      "Using TensorFlow backend.\n"
     ]
    }
   ],
   "source": [
    "from keras import backend\n",
    "print(backend.backend())"
   ]
  },
  {
   "cell_type": "code",
   "execution_count": 3,
   "metadata": {},
   "outputs": [
    {
     "name": "stdout",
     "output_type": "stream",
     "text": [
      "Collecting Theano\n",
      "  Downloading https://files.pythonhosted.org/packages/7d/c4/6341148ad458b6cd8361b774d7ee6895c38eab88f05331f22304c484ed5d/Theano-1.0.4.tar.gz (2.8MB)\n",
      "Requirement already satisfied: numpy>=1.9.1 in c:\\users\\aruns\\appdata\\local\\continuum\\anaconda3\\envs\\python\\lib\\site-packages (from Theano) (1.18.1)\n",
      "Requirement already satisfied: scipy>=0.14 in c:\\users\\aruns\\appdata\\local\\continuum\\anaconda3\\envs\\python\\lib\\site-packages (from Theano) (1.3.2)\n",
      "Requirement already satisfied: six>=1.9.0 in c:\\users\\aruns\\appdata\\local\\continuum\\anaconda3\\envs\\python\\lib\\site-packages (from Theano) (1.13.0)\n",
      "Building wheels for collected packages: Theano\n",
      "  Building wheel for Theano (setup.py): started\n",
      "  Building wheel for Theano (setup.py): finished with status 'done'\n",
      "  Created wheel for Theano: filename=Theano-1.0.4-cp37-none-any.whl size=2667193 sha256=5a9aa052b7054410f9d219f7350b520173902d2f6a8a52799c93f8ab00b2d325\n",
      "  Stored in directory: C:\\Users\\aruns\\AppData\\Local\\pip\\Cache\\wheels\\88\\fb\\be\\483910ff7e9f703f30a10605ad7605f3316493875c86637014\n",
      "Successfully built Theano\n",
      "Installing collected packages: Theano\n",
      "Successfully installed Theano-1.0.4\n",
      "Note: you may need to restart the kernel to use updated packages.\n"
     ]
    }
   ],
   "source": [
    "pip install Theano"
   ]
  },
  {
   "cell_type": "code",
   "execution_count": 2,
   "metadata": {},
   "outputs": [
    {
     "name": "stderr",
     "output_type": "stream",
     "text": [
      "WARNING (theano.configdefaults): g++ not available, if using conda: `conda install m2w64-toolchain`\n",
      "C:\\Users\\aruns\\AppData\\Local\\Continuum\\anaconda3\\envs\\Python\\lib\\site-packages\\theano\\configdefaults.py:560: UserWarning: DeprecationWarning: there is no c++ compiler.This is deprecated and with Theano 0.11 a c++ compiler will be mandatory\n",
      "  warnings.warn(\"DeprecationWarning: there is no c++ compiler.\"\n",
      "WARNING (theano.configdefaults): g++ not detected ! Theano will be unable to execute optimized C-implementations (for both CPU and GPU) and will default to Python implementations. Performance will be severely degraded. To remove this warning, set Theano flags cxx to an empty string.\n",
      "WARNING (theano.tensor.blas): Using NumPy C-API based implementation for BLAS functions.\n"
     ]
    },
    {
     "data": {
      "text/plain": [
       "'1.0.4'"
      ]
     },
     "execution_count": 2,
     "metadata": {},
     "output_type": "execute_result"
    }
   ],
   "source": [
    "import theano\n",
    "theano.__file__\n",
    "theano.__version__"
   ]
  },
  {
   "cell_type": "code",
   "execution_count": 12,
   "metadata": {},
   "outputs": [],
   "source": [
    "# first neural network with keras tutorial\n",
    "from numpy import loadtxt\n",
    "from keras.models import Sequential\n",
    "from keras.layers import Dense"
   ]
  },
  {
   "cell_type": "code",
   "execution_count": 14,
   "metadata": {},
   "outputs": [],
   "source": [
    "# load the dataset\n",
    "dataset = loadtxt('C:\\\\Users\\\\aruns\\\\Downloads\\\\My Proj\\\\Keras\\\\Pima\\\\pima.txt', delimiter=',')\n",
    "# split into input (X) and output (y) variables\n",
    "X = dataset[:,0:8]\n",
    "y = dataset[:,8]"
   ]
  },
  {
   "cell_type": "code",
   "execution_count": 18,
   "metadata": {},
   "outputs": [
    {
     "name": "stdout",
     "output_type": "stream",
     "text": [
      "WARNING:tensorflow:From C:\\Users\\aruns\\AppData\\Local\\Continuum\\anaconda3\\envs\\Python\\lib\\site-packages\\keras\\backend\\tensorflow_backend.py:74: The name tf.get_default_graph is deprecated. Please use tf.compat.v1.get_default_graph instead.\n",
      "\n",
      "WARNING:tensorflow:From C:\\Users\\aruns\\AppData\\Local\\Continuum\\anaconda3\\envs\\Python\\lib\\site-packages\\keras\\backend\\tensorflow_backend.py:517: The name tf.placeholder is deprecated. Please use tf.compat.v1.placeholder instead.\n",
      "\n",
      "WARNING:tensorflow:From C:\\Users\\aruns\\AppData\\Local\\Continuum\\anaconda3\\envs\\Python\\lib\\site-packages\\keras\\backend\\tensorflow_backend.py:4138: The name tf.random_uniform is deprecated. Please use tf.random.uniform instead.\n",
      "\n"
     ]
    }
   ],
   "source": [
    "# define the keras model\n",
    "model = Sequential()\n",
    "model.add(Dense(12, input_dim=8, activation='relu'))\n",
    "model.add(Dense(8, activation='relu'))\n",
    "model.add(Dense(1, activation='sigmoid'))"
   ]
  },
  {
   "cell_type": "code",
   "execution_count": 19,
   "metadata": {},
   "outputs": [
    {
     "name": "stdout",
     "output_type": "stream",
     "text": [
      "WARNING:tensorflow:From C:\\Users\\aruns\\AppData\\Local\\Continuum\\anaconda3\\envs\\Python\\lib\\site-packages\\keras\\optimizers.py:790: The name tf.train.Optimizer is deprecated. Please use tf.compat.v1.train.Optimizer instead.\n",
      "\n",
      "WARNING:tensorflow:From C:\\Users\\aruns\\AppData\\Local\\Continuum\\anaconda3\\envs\\Python\\lib\\site-packages\\keras\\backend\\tensorflow_backend.py:3376: The name tf.log is deprecated. Please use tf.math.log instead.\n",
      "\n",
      "WARNING:tensorflow:From C:\\Users\\aruns\\AppData\\Local\\Continuum\\anaconda3\\envs\\Python\\lib\\site-packages\\tensorflow_core\\python\\ops\\nn_impl.py:183: where (from tensorflow.python.ops.array_ops) is deprecated and will be removed in a future version.\n",
      "Instructions for updating:\n",
      "Use tf.where in 2.0, which has the same broadcast rule as np.where\n"
     ]
    }
   ],
   "source": [
    "# compile the keras model\n",
    "model.compile(loss='binary_crossentropy', optimizer='adam', metrics=['accuracy'])"
   ]
  },
  {
   "cell_type": "code",
   "execution_count": 20,
   "metadata": {},
   "outputs": [
    {
     "name": "stdout",
     "output_type": "stream",
     "text": [
      "WARNING:tensorflow:From C:\\Users\\aruns\\AppData\\Local\\Continuum\\anaconda3\\envs\\Python\\lib\\site-packages\\keras\\backend\\tensorflow_backend.py:986: The name tf.assign_add is deprecated. Please use tf.compat.v1.assign_add instead.\n",
      "\n",
      "WARNING:tensorflow:From C:\\Users\\aruns\\AppData\\Local\\Continuum\\anaconda3\\envs\\Python\\lib\\site-packages\\keras\\backend\\tensorflow_backend.py:973: The name tf.assign is deprecated. Please use tf.compat.v1.assign instead.\n",
      "\n",
      "WARNING:tensorflow:From C:\\Users\\aruns\\AppData\\Local\\Continuum\\anaconda3\\envs\\Python\\lib\\site-packages\\keras\\backend\\tensorflow_backend.py:2741: The name tf.Session is deprecated. Please use tf.compat.v1.Session instead.\n",
      "\n",
      "Epoch 1/150\n",
      "WARNING:tensorflow:From C:\\Users\\aruns\\AppData\\Local\\Continuum\\anaconda3\\envs\\Python\\lib\\site-packages\\keras\\backend\\tensorflow_backend.py:174: The name tf.get_default_session is deprecated. Please use tf.compat.v1.get_default_session instead.\n",
      "\n",
      "WARNING:tensorflow:From C:\\Users\\aruns\\AppData\\Local\\Continuum\\anaconda3\\envs\\Python\\lib\\site-packages\\keras\\backend\\tensorflow_backend.py:181: The name tf.ConfigProto is deprecated. Please use tf.compat.v1.ConfigProto instead.\n",
      "\n",
      "WARNING:tensorflow:From C:\\Users\\aruns\\AppData\\Local\\Continuum\\anaconda3\\envs\\Python\\lib\\site-packages\\keras\\backend\\tensorflow_backend.py:190: The name tf.global_variables is deprecated. Please use tf.compat.v1.global_variables instead.\n",
      "\n",
      "WARNING:tensorflow:From C:\\Users\\aruns\\AppData\\Local\\Continuum\\anaconda3\\envs\\Python\\lib\\site-packages\\keras\\backend\\tensorflow_backend.py:199: The name tf.is_variable_initialized is deprecated. Please use tf.compat.v1.is_variable_initialized instead.\n",
      "\n",
      "WARNING:tensorflow:From C:\\Users\\aruns\\AppData\\Local\\Continuum\\anaconda3\\envs\\Python\\lib\\site-packages\\keras\\backend\\tensorflow_backend.py:206: The name tf.variables_initializer is deprecated. Please use tf.compat.v1.variables_initializer instead.\n",
      "\n",
      "768/768 [==============================] - 1s 1ms/step - loss: 2.4373 - acc: 0.5977\n",
      "Epoch 2/150\n",
      "768/768 [==============================] - 0s 115us/step - loss: 1.2371 - acc: 0.6484\n",
      "Epoch 3/150\n",
      "768/768 [==============================] - 0s 122us/step - loss: 1.0230 - acc: 0.6458\n",
      "Epoch 4/150\n",
      "768/768 [==============================] - 0s 113us/step - loss: 0.8429 - acc: 0.6602\n",
      "Epoch 5/150\n",
      "768/768 [==============================] - 0s 112us/step - loss: 0.7409 - acc: 0.6706\n",
      "Epoch 6/150\n",
      "768/768 [==============================] - 0s 112us/step - loss: 0.7413 - acc: 0.6732\n",
      "Epoch 7/150\n",
      "768/768 [==============================] - 0s 106us/step - loss: 0.6976 - acc: 0.6719\n",
      "Epoch 8/150\n",
      "768/768 [==============================] - 0s 117us/step - loss: 0.6683 - acc: 0.6979\n",
      "Epoch 9/150\n",
      "768/768 [==============================] - 0s 113us/step - loss: 0.6886 - acc: 0.6680\n",
      "Epoch 10/150\n",
      "768/768 [==============================] - 0s 119us/step - loss: 0.6624 - acc: 0.6862\n",
      "Epoch 11/150\n",
      "768/768 [==============================] - 0s 116us/step - loss: 0.6662 - acc: 0.6745\n",
      "Epoch 12/150\n",
      "768/768 [==============================] - 0s 113us/step - loss: 0.6295 - acc: 0.6914 0s - loss: 0.6576 - acc: 0.657\n",
      "Epoch 13/150\n",
      "768/768 [==============================] - 0s 113us/step - loss: 0.6284 - acc: 0.7044\n",
      "Epoch 14/150\n",
      "768/768 [==============================] - 0s 112us/step - loss: 0.6460 - acc: 0.6849\n",
      "Epoch 15/150\n",
      "768/768 [==============================] - 0s 148us/step - loss: 0.5963 - acc: 0.7044\n",
      "Epoch 16/150\n",
      "768/768 [==============================] - 0s 125us/step - loss: 0.6144 - acc: 0.6862\n",
      "Epoch 17/150\n",
      "768/768 [==============================] - 0s 119us/step - loss: 0.6133 - acc: 0.6992\n",
      "Epoch 18/150\n",
      "768/768 [==============================] - 0s 112us/step - loss: 0.6243 - acc: 0.6823\n",
      "Epoch 19/150\n",
      "768/768 [==============================] - 0s 109us/step - loss: 0.5991 - acc: 0.7018\n",
      "Epoch 20/150\n",
      "768/768 [==============================] - 0s 121us/step - loss: 0.6221 - acc: 0.6888\n",
      "Epoch 21/150\n",
      "768/768 [==============================] - 0s 119us/step - loss: 0.5993 - acc: 0.7122\n",
      "Epoch 22/150\n",
      "768/768 [==============================] - 0s 119us/step - loss: 0.5999 - acc: 0.6979\n",
      "Epoch 23/150\n",
      "768/768 [==============================] - 0s 118us/step - loss: 0.5886 - acc: 0.7135\n",
      "Epoch 24/150\n",
      "768/768 [==============================] - 0s 110us/step - loss: 0.5945 - acc: 0.7083\n",
      "Epoch 25/150\n",
      "768/768 [==============================] - 0s 112us/step - loss: 0.5948 - acc: 0.7240 0s - loss: 0.6143 - acc: 0.724\n",
      "Epoch 26/150\n",
      "768/768 [==============================] - 0s 108us/step - loss: 0.5820 - acc: 0.7188\n",
      "Epoch 27/150\n",
      "768/768 [==============================] - 0s 140us/step - loss: 0.5723 - acc: 0.7214\n",
      "Epoch 28/150\n",
      "768/768 [==============================] - 0s 114us/step - loss: 0.5704 - acc: 0.7188\n",
      "Epoch 29/150\n",
      "768/768 [==============================] - 0s 110us/step - loss: 0.5685 - acc: 0.7188\n",
      "Epoch 30/150\n",
      "768/768 [==============================] - 0s 116us/step - loss: 0.5766 - acc: 0.7109\n",
      "Epoch 31/150\n",
      "768/768 [==============================] - 0s 118us/step - loss: 0.5770 - acc: 0.6992 0s - loss: 0.5847 - acc: 0.693\n",
      "Epoch 32/150\n",
      "768/768 [==============================] - 0s 115us/step - loss: 0.5559 - acc: 0.7318\n",
      "Epoch 33/150\n",
      "768/768 [==============================] - 0s 108us/step - loss: 0.5667 - acc: 0.7305\n",
      "Epoch 34/150\n",
      "768/768 [==============================] - 0s 112us/step - loss: 0.5618 - acc: 0.7214\n",
      "Epoch 35/150\n",
      "768/768 [==============================] - 0s 115us/step - loss: 0.5611 - acc: 0.7187\n",
      "Epoch 36/150\n",
      "768/768 [==============================] - 0s 111us/step - loss: 0.5504 - acc: 0.7253 0s - loss: 0.5627 - acc: 0.717\n",
      "Epoch 37/150\n",
      "768/768 [==============================] - 0s 107us/step - loss: 0.5575 - acc: 0.7357\n",
      "Epoch 38/150\n",
      "768/768 [==============================] - 0s 113us/step - loss: 0.5422 - acc: 0.7240\n",
      "Epoch 39/150\n",
      "768/768 [==============================] - 0s 135us/step - loss: 0.5709 - acc: 0.7187\n",
      "Epoch 40/150\n",
      "768/768 [==============================] - 0s 120us/step - loss: 0.5458 - acc: 0.7318\n",
      "Epoch 41/150\n",
      "768/768 [==============================] - 0s 130us/step - loss: 0.5639 - acc: 0.7357\n",
      "Epoch 42/150\n",
      "768/768 [==============================] - 0s 127us/step - loss: 0.5612 - acc: 0.7214\n",
      "Epoch 43/150\n",
      "768/768 [==============================] - 0s 131us/step - loss: 0.5579 - acc: 0.7240\n",
      "Epoch 44/150\n",
      "768/768 [==============================] - 0s 126us/step - loss: 0.5649 - acc: 0.7201\n",
      "Epoch 45/150\n",
      "768/768 [==============================] - 0s 125us/step - loss: 0.5407 - acc: 0.7253\n",
      "Epoch 46/150\n",
      "768/768 [==============================] - 0s 160us/step - loss: 0.5527 - acc: 0.7331\n",
      "Epoch 47/150\n",
      "768/768 [==============================] - 0s 126us/step - loss: 0.5347 - acc: 0.7266\n",
      "Epoch 48/150\n",
      "768/768 [==============================] - 0s 110us/step - loss: 0.5448 - acc: 0.7253\n",
      "Epoch 49/150\n",
      "768/768 [==============================] - 0s 108us/step - loss: 0.5477 - acc: 0.7240\n",
      "Epoch 50/150\n",
      "768/768 [==============================] - 0s 125us/step - loss: 0.5565 - acc: 0.7305\n",
      "Epoch 51/150\n",
      "768/768 [==============================] - 0s 107us/step - loss: 0.5633 - acc: 0.7201\n",
      "Epoch 52/150\n",
      "768/768 [==============================] - 0s 106us/step - loss: 0.5371 - acc: 0.7305\n",
      "Epoch 53/150\n",
      "768/768 [==============================] - 0s 108us/step - loss: 0.5299 - acc: 0.7396\n",
      "Epoch 54/150\n",
      "768/768 [==============================] - 0s 109us/step - loss: 0.5486 - acc: 0.7135\n",
      "Epoch 55/150\n",
      "768/768 [==============================] - 0s 116us/step - loss: 0.5517 - acc: 0.7188\n",
      "Epoch 56/150\n",
      "768/768 [==============================] - 0s 108us/step - loss: 0.5287 - acc: 0.7292\n",
      "Epoch 57/150\n",
      "768/768 [==============================] - ETA: 0s - loss: 0.5240 - acc: 0.743 - 0s 101us/step - loss: 0.5408 - acc: 0.7409\n",
      "Epoch 58/150\n",
      "768/768 [==============================] - 0s 115us/step - loss: 0.5219 - acc: 0.7409\n",
      "Epoch 59/150\n",
      "768/768 [==============================] - 0s 112us/step - loss: 0.5329 - acc: 0.7409\n",
      "Epoch 60/150\n",
      "768/768 [==============================] - 0s 117us/step - loss: 0.5262 - acc: 0.7396\n",
      "Epoch 61/150\n",
      "768/768 [==============================] - 0s 106us/step - loss: 0.5110 - acc: 0.7500\n",
      "Epoch 62/150\n",
      "768/768 [==============================] - 0s 121us/step - loss: 0.5282 - acc: 0.7474\n",
      "Epoch 63/150\n"
     ]
    },
    {
     "name": "stdout",
     "output_type": "stream",
     "text": [
      "768/768 [==============================] - 0s 122us/step - loss: 0.5595 - acc: 0.7227\n",
      "Epoch 64/150\n",
      "768/768 [==============================] - 0s 108us/step - loss: 0.5345 - acc: 0.7318\n",
      "Epoch 65/150\n",
      "768/768 [==============================] - 0s 113us/step - loss: 0.5120 - acc: 0.7578\n",
      "Epoch 66/150\n",
      "768/768 [==============================] - 0s 110us/step - loss: 0.5626 - acc: 0.7201\n",
      "Epoch 67/150\n",
      "768/768 [==============================] - 0s 110us/step - loss: 0.5204 - acc: 0.7370\n",
      "Epoch 68/150\n",
      "768/768 [==============================] - 0s 110us/step - loss: 0.5143 - acc: 0.7409\n",
      "Epoch 69/150\n",
      "768/768 [==============================] - 0s 108us/step - loss: 0.5228 - acc: 0.7565\n",
      "Epoch 70/150\n",
      "768/768 [==============================] - ETA: 0s - loss: 0.5473 - acc: 0.729 - 0s 107us/step - loss: 0.5338 - acc: 0.7461\n",
      "Epoch 71/150\n",
      "768/768 [==============================] - 0s 116us/step - loss: 0.5193 - acc: 0.7474\n",
      "Epoch 72/150\n",
      "768/768 [==============================] - 0s 116us/step - loss: 0.5086 - acc: 0.7526\n",
      "Epoch 73/150\n",
      "768/768 [==============================] - 0s 118us/step - loss: 0.5189 - acc: 0.7396\n",
      "Epoch 74/150\n",
      "768/768 [==============================] - 0s 125us/step - loss: 0.5096 - acc: 0.7565\n",
      "Epoch 75/150\n",
      "768/768 [==============================] - 0s 143us/step - loss: 0.5304 - acc: 0.7513\n",
      "Epoch 76/150\n",
      "768/768 [==============================] - 0s 113us/step - loss: 0.5116 - acc: 0.7487\n",
      "Epoch 77/150\n",
      "768/768 [==============================] - 0s 113us/step - loss: 0.5111 - acc: 0.7578\n",
      "Epoch 78/150\n",
      "768/768 [==============================] - 0s 109us/step - loss: 0.5067 - acc: 0.7591\n",
      "Epoch 79/150\n",
      "768/768 [==============================] - 0s 113us/step - loss: 0.5235 - acc: 0.7305\n",
      "Epoch 80/150\n",
      "768/768 [==============================] - 0s 110us/step - loss: 0.5022 - acc: 0.7578\n",
      "Epoch 81/150\n",
      "768/768 [==============================] - 0s 109us/step - loss: 0.5023 - acc: 0.7591\n",
      "Epoch 82/150\n",
      "768/768 [==============================] - 0s 111us/step - loss: 0.5058 - acc: 0.7617\n",
      "Epoch 83/150\n",
      "768/768 [==============================] - 0s 110us/step - loss: 0.5204 - acc: 0.7513\n",
      "Epoch 84/150\n",
      "768/768 [==============================] - 0s 113us/step - loss: 0.5182 - acc: 0.7370\n",
      "Epoch 85/150\n",
      "768/768 [==============================] - 0s 112us/step - loss: 0.5053 - acc: 0.7513\n",
      "Epoch 86/150\n",
      "768/768 [==============================] - 0s 121us/step - loss: 0.5149 - acc: 0.7539\n",
      "Epoch 87/150\n",
      "768/768 [==============================] - ETA: 0s - loss: 0.4975 - acc: 0.752 - 0s 124us/step - loss: 0.5317 - acc: 0.7396\n",
      "Epoch 88/150\n",
      "768/768 [==============================] - 0s 107us/step - loss: 0.5075 - acc: 0.7422\n",
      "Epoch 89/150\n",
      "768/768 [==============================] - 0s 107us/step - loss: 0.4940 - acc: 0.7669\n",
      "Epoch 90/150\n",
      "768/768 [==============================] - 0s 107us/step - loss: 0.5114 - acc: 0.7578\n",
      "Epoch 91/150\n",
      "768/768 [==============================] - 0s 103us/step - loss: 0.5174 - acc: 0.7500\n",
      "Epoch 92/150\n",
      "768/768 [==============================] - 0s 104us/step - loss: 0.5007 - acc: 0.7682\n",
      "Epoch 93/150\n",
      "768/768 [==============================] - 0s 107us/step - loss: 0.4999 - acc: 0.7513\n",
      "Epoch 94/150\n",
      "768/768 [==============================] - 0s 105us/step - loss: 0.4986 - acc: 0.7591\n",
      "Epoch 95/150\n",
      "768/768 [==============================] - 0s 110us/step - loss: 0.4967 - acc: 0.7578\n",
      "Epoch 96/150\n",
      "768/768 [==============================] - 0s 109us/step - loss: 0.5049 - acc: 0.7578\n",
      "Epoch 97/150\n",
      "768/768 [==============================] - 0s 112us/step - loss: 0.4980 - acc: 0.7695\n",
      "Epoch 98/150\n",
      "768/768 [==============================] - 0s 109us/step - loss: 0.4955 - acc: 0.7617\n",
      "Epoch 99/150\n",
      "768/768 [==============================] - 0s 122us/step - loss: 0.4920 - acc: 0.7591\n",
      "Epoch 100/150\n",
      "768/768 [==============================] - 0s 125us/step - loss: 0.5031 - acc: 0.7513\n",
      "Epoch 101/150\n",
      "768/768 [==============================] - 0s 111us/step - loss: 0.5011 - acc: 0.7578\n",
      "Epoch 102/150\n",
      "768/768 [==============================] - 0s 108us/step - loss: 0.4888 - acc: 0.7643\n",
      "Epoch 103/150\n",
      "768/768 [==============================] - 0s 109us/step - loss: 0.4884 - acc: 0.7617\n",
      "Epoch 104/150\n",
      "768/768 [==============================] - 0s 109us/step - loss: 0.4925 - acc: 0.7630\n",
      "Epoch 105/150\n",
      "768/768 [==============================] - ETA: 0s - loss: 0.5080 - acc: 0.768 - 0s 112us/step - loss: 0.4966 - acc: 0.7747\n",
      "Epoch 106/150\n",
      "768/768 [==============================] - 0s 110us/step - loss: 0.4840 - acc: 0.7773\n",
      "Epoch 107/150\n",
      "768/768 [==============================] - 0s 103us/step - loss: 0.4904 - acc: 0.7734\n",
      "Epoch 108/150\n",
      "768/768 [==============================] - 0s 105us/step - loss: 0.4821 - acc: 0.7656\n",
      "Epoch 109/150\n",
      "768/768 [==============================] - 0s 110us/step - loss: 0.4902 - acc: 0.7786\n",
      "Epoch 110/150\n",
      "768/768 [==============================] - 0s 108us/step - loss: 0.4887 - acc: 0.7734\n",
      "Epoch 111/150\n",
      "768/768 [==============================] - 0s 120us/step - loss: 0.4829 - acc: 0.7721\n",
      "Epoch 112/150\n",
      "768/768 [==============================] - 0s 122us/step - loss: 0.4944 - acc: 0.7526\n",
      "Epoch 113/150\n",
      "768/768 [==============================] - 0s 108us/step - loss: 0.4947 - acc: 0.7617\n",
      "Epoch 114/150\n",
      "768/768 [==============================] - 0s 108us/step - loss: 0.4948 - acc: 0.7682\n",
      "Epoch 115/150\n",
      "768/768 [==============================] - 0s 110us/step - loss: 0.4836 - acc: 0.7526\n",
      "Epoch 116/150\n",
      "768/768 [==============================] - 0s 107us/step - loss: 0.4914 - acc: 0.7734\n",
      "Epoch 117/150\n",
      "768/768 [==============================] - 0s 113us/step - loss: 0.4754 - acc: 0.7656\n",
      "Epoch 118/150\n",
      "768/768 [==============================] - 0s 108us/step - loss: 0.4964 - acc: 0.7526\n",
      "Epoch 119/150\n",
      "768/768 [==============================] - 0s 110us/step - loss: 0.4911 - acc: 0.7747\n",
      "Epoch 120/150\n",
      "768/768 [==============================] - 0s 111us/step - loss: 0.4873 - acc: 0.7760\n",
      "Epoch 121/150\n",
      "768/768 [==============================] - 0s 112us/step - loss: 0.4964 - acc: 0.7539\n",
      "Epoch 122/150\n",
      "768/768 [==============================] - 0s 108us/step - loss: 0.4728 - acc: 0.7826\n",
      "Epoch 123/150\n",
      "768/768 [==============================] - 0s 112us/step - loss: 0.4853 - acc: 0.7839\n",
      "Epoch 124/150\n",
      "768/768 [==============================] - 0s 135us/step - loss: 0.4926 - acc: 0.7539\n",
      "Epoch 125/150\n",
      "768/768 [==============================] - 0s 114us/step - loss: 0.4897 - acc: 0.7695\n",
      "Epoch 126/150\n",
      "768/768 [==============================] - 0s 114us/step - loss: 0.4793 - acc: 0.7747\n",
      "Epoch 127/150\n",
      "768/768 [==============================] - 0s 117us/step - loss: 0.4789 - acc: 0.7734\n",
      "Epoch 128/150\n",
      "768/768 [==============================] - 0s 110us/step - loss: 0.4942 - acc: 0.7500\n",
      "Epoch 129/150\n",
      "768/768 [==============================] - 0s 113us/step - loss: 0.4873 - acc: 0.7786\n",
      "Epoch 130/150\n",
      "768/768 [==============================] - 0s 112us/step - loss: 0.5003 - acc: 0.7643\n",
      "Epoch 131/150\n",
      "768/768 [==============================] - 0s 125us/step - loss: 0.4833 - acc: 0.7604\n",
      "Epoch 132/150\n",
      "768/768 [==============================] - 0s 110us/step - loss: 0.4799 - acc: 0.7695\n",
      "Epoch 133/150\n",
      "768/768 [==============================] - 0s 112us/step - loss: 0.4738 - acc: 0.7773\n",
      "Epoch 134/150\n",
      "768/768 [==============================] - 0s 110us/step - loss: 0.4735 - acc: 0.7760\n",
      "Epoch 135/150\n",
      "768/768 [==============================] - 0s 115us/step - loss: 0.4665 - acc: 0.7747\n",
      "Epoch 136/150\n",
      "768/768 [==============================] - 0s 132us/step - loss: 0.4731 - acc: 0.7786\n",
      "Epoch 137/150\n",
      "768/768 [==============================] - 0s 112us/step - loss: 0.4840 - acc: 0.7617\n",
      "Epoch 138/150\n",
      "768/768 [==============================] - 0s 108us/step - loss: 0.4724 - acc: 0.7812\n",
      "Epoch 139/150\n",
      "768/768 [==============================] - 0s 106us/step - loss: 0.4812 - acc: 0.7695\n",
      "Epoch 140/150\n",
      "768/768 [==============================] - 0s 109us/step - loss: 0.4753 - acc: 0.7826\n",
      "Epoch 141/150\n",
      "768/768 [==============================] - 0s 109us/step - loss: 0.4767 - acc: 0.7865\n",
      "Epoch 142/150\n",
      "768/768 [==============================] - 0s 110us/step - loss: 0.4986 - acc: 0.7565\n",
      "Epoch 143/150\n",
      "768/768 [==============================] - 0s 109us/step - loss: 0.4910 - acc: 0.7708\n",
      "Epoch 144/150\n"
     ]
    },
    {
     "name": "stdout",
     "output_type": "stream",
     "text": [
      "768/768 [==============================] - 0s 108us/step - loss: 0.4743 - acc: 0.7695\n",
      "Epoch 145/150\n",
      "768/768 [==============================] - 0s 108us/step - loss: 0.4686 - acc: 0.7812\n",
      "Epoch 146/150\n",
      "768/768 [==============================] - 0s 106us/step - loss: 0.4775 - acc: 0.7708\n",
      "Epoch 147/150\n",
      "768/768 [==============================] - 0s 108us/step - loss: 0.4774 - acc: 0.7695\n",
      "Epoch 148/150\n",
      "768/768 [==============================] - 0s 116us/step - loss: 0.4743 - acc: 0.7812\n",
      "Epoch 149/150\n",
      "768/768 [==============================] - 0s 127us/step - loss: 0.4711 - acc: 0.7669\n",
      "Epoch 150/150\n",
      "768/768 [==============================] - 0s 110us/step - loss: 0.4602 - acc: 0.7669\n"
     ]
    },
    {
     "data": {
      "text/plain": [
       "<keras.callbacks.History at 0x1c4ca0b5288>"
      ]
     },
     "execution_count": 20,
     "metadata": {},
     "output_type": "execute_result"
    }
   ],
   "source": [
    "# fit the keras model on the dataset\n",
    "model.fit(X, y, epochs=150, batch_size=10)"
   ]
  },
  {
   "cell_type": "code",
   "execution_count": 21,
   "metadata": {},
   "outputs": [
    {
     "name": "stdout",
     "output_type": "stream",
     "text": [
      "768/768 [==============================] - 0s 104us/step\n",
      "Accuracy: 79.17\n"
     ]
    }
   ],
   "source": [
    "# evaluate the keras model\n",
    "_, accuracy = model.evaluate(X, y)\n",
    "print('Accuracy: %.2f' % (accuracy*100))"
   ]
  },
  {
   "cell_type": "code",
   "execution_count": 22,
   "metadata": {},
   "outputs": [],
   "source": [
    "# make probability predictions with the model\n",
    "predictions = model.predict(X)\n",
    "# round predictions \n",
    "rounded = [round(x[0]) for x in predictions]"
   ]
  },
  {
   "cell_type": "code",
   "execution_count": 23,
   "metadata": {},
   "outputs": [],
   "source": [
    "# make class predictions with the model\n",
    "predictions = model.predict_classes(X)"
   ]
  },
  {
   "cell_type": "code",
   "execution_count": 25,
   "metadata": {},
   "outputs": [
    {
     "name": "stdout",
     "output_type": "stream",
     "text": [
      "[6.0, 148.0, 72.0, 35.0, 0.0, 33.6, 0.627, 50.0] => 1 (expected 1)\n",
      "[1.0, 85.0, 66.0, 29.0, 0.0, 26.6, 0.351, 31.0] => 0 (expected 0)\n",
      "[8.0, 183.0, 64.0, 0.0, 0.0, 23.3, 0.672, 32.0] => 1 (expected 1)\n",
      "[1.0, 89.0, 66.0, 23.0, 94.0, 28.1, 0.167, 21.0] => 0 (expected 0)\n",
      "[0.0, 137.0, 40.0, 35.0, 168.0, 43.1, 2.288, 33.0] => 1 (expected 1)\n"
     ]
    }
   ],
   "source": [
    "# summarize the first 5 cases\n",
    "for i in range(5):\n",
    "    print('%s => %d (expected %d)' % (X[i].tolist(), predictions[i], y[i]))"
   ]
  },
  {
   "cell_type": "markdown",
   "metadata": {},
   "source": [
    "## Save Your Neural Network Model to JSON:"
   ]
  },
  {
   "cell_type": "code",
   "execution_count": 26,
   "metadata": {},
   "outputs": [
    {
     "name": "stdout",
     "output_type": "stream",
     "text": [
      "Saved model to disk\n"
     ]
    }
   ],
   "source": [
    "# serialize model to JSON\n",
    "model_json = model.to_json()\n",
    "with open(\"model.json\", \"w\") as json_file:\n",
    "    json_file.write(model_json)\n",
    "# serialize weights to HDF5\n",
    "model.save_weights(\"model.h5\")\n",
    "print(\"Saved model to disk\")"
   ]
  },
  {
   "cell_type": "code",
   "execution_count": 32,
   "metadata": {},
   "outputs": [
    {
     "name": "stdout",
     "output_type": "stream",
     "text": [
      "Loaded model from disk\n",
      "acc: 79.17%\n"
     ]
    }
   ],
   "source": [
    "# later...\n",
    " \n",
    "# load json and create model\n",
    "from keras.models import model_from_json\n",
    "json_file = open('model.json', 'r')\n",
    "loaded_model_json = json_file.read()\n",
    "json_file.close()\n",
    "loaded_model = model_from_json(loaded_model_json)\n",
    "# load weights into new model\n",
    "loaded_model.load_weights(\"model.h5\")\n",
    "print(\"Loaded model from disk\")\n",
    " \n",
    "# evaluate loaded model on test data\n",
    "loaded_model.compile(loss='binary_crossentropy', optimizer='rmsprop', metrics=['accuracy'])\n",
    "score = loaded_model.evaluate(X, y, verbose=0)\n",
    "print(\"%s: %.2f%%\" % (loaded_model.metrics_names[1], score[1]*100))"
   ]
  },
  {
   "cell_type": "code",
   "execution_count": null,
   "metadata": {},
   "outputs": [],
   "source": [
    "# serialize model to YAML\n",
    "model_yaml = model.to_yaml()\n",
    "with open(\"model.yaml\", \"w\") as yaml_file:\n",
    "    yaml_file.write(model_yaml)\n",
    "# serialize weights to HDF5\n",
    "model.save_weights(\"model.h5\")\n",
    "print(\"Saved model to disk\")\n",
    " \n",
    "# later...\n",
    " \n",
    "# load YAML and create model\n",
    "yaml_file = open('model.yaml', 'r')\n",
    "loaded_model_yaml = yaml_file.read()\n",
    "yaml_file.close()\n",
    "loaded_model = model_from_yaml(loaded_model_yaml)\n",
    "# load weights into new model\n",
    "loaded_model.load_weights(\"model.h5\")\n",
    "print(\"Loaded model from disk\")\n",
    " \n",
    "# evaluate loaded model on test data\n",
    "loaded_model.compile(loss='binary_crossentropy', optimizer='rmsprop', metrics=['accuracy'])\n",
    "score = loaded_model.evaluate(X, Y, verbose=0)\n",
    "print(\"%s: %.2f%%\" % (loaded_model.metrics_names[1], score[1]*100))"
   ]
  }
 ],
 "metadata": {
  "kernelspec": {
   "display_name": "Python 3",
   "language": "python",
   "name": "python3"
  },
  "language_info": {
   "codemirror_mode": {
    "name": "ipython",
    "version": 3
   },
   "file_extension": ".py",
   "mimetype": "text/x-python",
   "name": "python",
   "nbconvert_exporter": "python",
   "pygments_lexer": "ipython3",
   "version": "3.7.6"
  }
 },
 "nbformat": 4,
 "nbformat_minor": 2
}
